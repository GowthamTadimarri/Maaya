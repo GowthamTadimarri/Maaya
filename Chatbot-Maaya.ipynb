{
 "cells": [
  {
   "cell_type": "code",
   "execution_count": null,
   "id": "e2df57bd",
   "metadata": {},
   "outputs": [
    {
     "name": "stdout",
     "output_type": "stream",
     "text": [
      "Hello! I'm your chatbot.\n"
     ]
    }
   ],
   "source": [
    "def Maaya():\n",
    "    print(\"Hello! I'm your chatbot.\")\n",
    "    while True:\n",
    "        user_input = input(\"You: \")\n",
    "        if user_input.lower() == ('bye','exit','tata'):\n",
    "            print(\"See you later, I'll be waiting for your commands!\")\n",
    "            break\n",
    "        else:\n",
    "            responses = {\n",
    "                'how are you': 'I\\'m a bot, so I\\'m good all the time! How about you?',\n",
    "                'what is your name': 'I am Maaya, your chat assistant, what do you wanna know boss',\n",
    "                'what do you do': 'I\\'m here to help you. What can I do for you?',\n",
    "                'tell me about the college' : '''SKIT is situated in the picturesque location of Chimney Hills, Chikkabanavara on Hesaraghatta road has a serene atmosphere, congenial for the pursuit of studies situated on top of a hillock overlooking vast verdant green land and watersheds enthralls the visitors by its captivating beauty.\n",
    "\n",
    "The institute has marked a niche in the field of Technical Education with the state of the art teaching equipment, innovative teaching methods, good infrastructure, highly qualified and experienced teaching faculty committed to imparting quality education. The dedicated teachers interact with every student through the proctorial system to counsel and guide them. The office staff is always ready to help the students in their academic and administrative matters.\n",
    "\n",
    "The library and information center, the repository of knowledge, with various International and National technical journals related to engineering & technology. The Campus is situated in the center of the city and near the country's industrial hub, which can be easily reached by public and Institution transportation system.\n",
    "\n",
    "Ever enthusiastic and active sports and games of the institute offer excellent opportunity to train oneself in all indoor and outdoor sports. Hostel for girls inside the campus with the best facilities adds to the attraction.\n",
    "\n",
    "An Auditorium, with an acoustic design, to house around 300 audiences with multimedia accessories and an amphitheater with a green and lustrous lawn having a capacity of 1000 people is the place for various activities and functions.\n",
    "\n",
    "The E-learning center has been fully equipped with the generous assistance of VTU where expert lecturers on various topics by eminent professors and professionals are made available to the students throughout the day. A high-speed (75mbps) Internet center is available on the campus. A language laboratory with advanced teaching aids is made available to all students.\n",
    "\n",
    "SKIT undertakes research and development work from many industries and institutions, for the benefit of students. Advanced techniques and methodologies are used in the handling of these projects. The students of SKIT are regularly taken on Industrial and site visits to enable them to observe and thereby learn contemporary practices and processes. SKIT is associated with a wide number of industries for this activity.\n",
    "\n",
    "The Department of Training and Placement of SKIT is an active center throbbing with various activities all through the year. The Institution has a complete infrastructure for the effective functioning of the department. The Placement Department is well-organized and sincerely working to empower students with various qualities and skills to achieve professional and personal excellence.\n",
    "\n",
    "Training programs and industry-related seminars are routine and the students are exposed to these kinds of programs from the very first day they step into the college. They are being prepared to be individuals with logical and analytical skills and with excellent practical knowledge. Also, the department is supporting the students to carry out their internships and projects in reputed Industries.'''\n",
    "            }\n",
    "            try:\n",
    "                response = responses[user_input.lower()]\n",
    "            except KeyError:\n",
    "                response = \"Sorry, I don't know the answer to that.\"\n",
    "            print(\"Chatbot: \" + response)\n",
    "\n",
    "if __name__ == \"__main__\":\n",
    "    Maaya()"
   ]
  },
  {
   "cell_type": "code",
   "execution_count": null,
   "id": "ac8e82e2",
   "metadata": {},
   "outputs": [],
   "source": []
  }
 ],
 "metadata": {
  "kernelspec": {
   "display_name": "Python 3 (ipykernel)",
   "language": "python",
   "name": "python3"
  },
  "language_info": {
   "codemirror_mode": {
    "name": "ipython",
    "version": 3
   },
   "file_extension": ".py",
   "mimetype": "text/x-python",
   "name": "python",
   "nbconvert_exporter": "python",
   "pygments_lexer": "ipython3",
   "version": "3.11.4"
  }
 },
 "nbformat": 4,
 "nbformat_minor": 5
}
